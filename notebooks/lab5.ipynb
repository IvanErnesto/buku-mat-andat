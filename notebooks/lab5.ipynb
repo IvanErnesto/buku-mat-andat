{
 "cells": [
  {
   "cell_type": "markdown",
   "metadata": {},
   "source": [
    "# Lab 5: Implementasi matriks kovarian di R"
   ]
  },
  {
   "cell_type": "markdown",
   "metadata": {},
   "source": [
    "Kita akan membuat matriks kovarian di R dengan dua cara, yakni dengan membuat dari awal dan menggunakan fungsi bawaan (*built-in*) dari R."
   ]
  },
  {
   "cell_type": "markdown",
   "metadata": {},
   "source": [
    "Mendefinisikan vektor kolom:"
   ]
  },
  {
   "cell_type": "code",
   "execution_count": 1,
   "metadata": {},
   "outputs": [],
   "source": [
    "a <- 1:6\n",
    "b <- seq(1, 11,by=2)\n",
    "c <- seq(10, 60, by=10)\n",
    "d <- c(2, 5, 5, 2, 1, 0)\n",
    "e <- c(4, 5, 6, 7, 8, 9)"
   ]
  },
  {
   "cell_type": "markdown",
   "metadata": {},
   "source": [
    "Mendefinisikan matriks dari vektor - vektor di atas:"
   ]
  },
  {
   "cell_type": "code",
   "execution_count": 2,
   "metadata": {},
   "outputs": [
    {
     "name": "stdout",
     "output_type": "stream",
     "text": [
      "     a  b  c d e\n",
      "[1,] 1  1 10 2 4\n",
      "[2,] 2  3 20 5 5\n",
      "[3,] 3  5 30 5 6\n",
      "[4,] 4  7 40 2 7\n",
      "[5,] 5  9 50 1 8\n",
      "[6,] 6 11 60 0 9\n"
     ]
    }
   ],
   "source": [
    "M <- cbind(a,b,c,d,e)\n",
    "k <- ncol(M)\n",
    "n <- nrow(M)\n",
    "print(M)"
   ]
  },
  {
   "cell_type": "markdown",
   "metadata": {},
   "source": [
    "Mencari rata - rata (ekspektasi) untuk setiap kolom:"
   ]
  },
  {
   "cell_type": "code",
   "execution_count": 3,
   "metadata": {},
   "outputs": [
    {
     "name": "stdout",
     "output_type": "stream",
     "text": [
      "     [,1] [,2] [,3] [,4] [,5]\n",
      "[1,]  3.5    6   35  2.5  6.5\n",
      "[2,]  3.5    6   35  2.5  6.5\n",
      "[3,]  3.5    6   35  2.5  6.5\n",
      "[4,]  3.5    6   35  2.5  6.5\n",
      "[5,]  3.5    6   35  2.5  6.5\n",
      "[6,]  3.5    6   35  2.5  6.5\n"
     ]
    }
   ],
   "source": [
    "k_rata2 <-  matrix(data = 1, nrow = n) %*% cbind(mean(a), mean(b), mean(c), mean(d), mean(e))\n",
    "print(k_rata2)"
   ]
  },
  {
   "cell_type": "markdown",
   "metadata": {},
   "source": [
    "Mendefinisikan perbedaan antar matriks:"
   ]
  },
  {
   "cell_type": "code",
   "execution_count": 4,
   "metadata": {},
   "outputs": [
    {
     "name": "stdout",
     "output_type": "stream",
     "text": [
      "        a  b   c    d    e\n",
      "[1,] -2.5 -5 -25 -0.5 -2.5\n",
      "[2,] -1.5 -3 -15  2.5 -1.5\n",
      "[3,] -0.5 -1  -5  2.5 -0.5\n",
      "[4,]  0.5  1   5 -0.5  0.5\n",
      "[5,]  1.5  3  15 -1.5  1.5\n",
      "[6,]  2.5  5  25 -2.5  2.5\n"
     ]
    }
   ],
   "source": [
    "diffM <- M - k_rata2\n",
    "print(diffM)"
   ]
  },
  {
   "cell_type": "markdown",
   "metadata": {},
   "source": [
    "Mendefinisikan matriks kovarian"
   ]
  },
  {
   "cell_type": "code",
   "execution_count": 8,
   "metadata": {},
   "outputs": [
    {
     "name": "stdout",
     "output_type": "stream",
     "text": [
      "     a  b   c     d    e\n",
      "a  3.5  7  35  -2.5  3.5\n",
      "b  7.0 14  70  -5.0  7.0\n",
      "c 35.0 70 350 -25.0 35.0\n",
      "d -2.5 -5 -25   4.3 -2.5\n",
      "e  3.5  7  35  -2.5  3.5\n"
     ]
    }
   ],
   "source": [
    "Mkovar <- (n-1)^-1 * t(diffM) %*% \n",
    "diffM # kovarian sampel\n",
    "print(Mkovar)"
   ]
  },
  {
   "cell_type": "markdown",
   "metadata": {},
   "source": [
    "Mencari variansi dari matriks kovarian:"
   ]
  },
  {
   "cell_type": "code",
   "execution_count": 6,
   "metadata": {},
   "outputs": [
    {
     "name": "stdout",
     "output_type": "stream",
     "text": [
      "    a     b     c     d     e \n",
      "  3.5  14.0 350.0   4.3   3.5 \n"
     ]
    }
   ],
   "source": [
    "var <- diag(Mkovar)\n",
    "print(var)"
   ]
  },
  {
   "cell_type": "markdown",
   "metadata": {},
   "source": [
    "Kita dapat menggunakan fungsi *built-in* `cov()` untuk mendefinisikan matriks kovarian di R:"
   ]
  },
  {
   "cell_type": "code",
   "execution_count": 7,
   "metadata": {},
   "outputs": [
    {
     "name": "stdout",
     "output_type": "stream",
     "text": [
      "     a  b   c     d    e\n",
      "a  3.5  7  35  -2.5  3.5\n",
      "b  7.0 14  70  -5.0  7.0\n",
      "c 35.0 70 350 -25.0 35.0\n",
      "d -2.5 -5 -25   4.3 -2.5\n",
      "e  3.5  7  35  -2.5  3.5\n"
     ]
    }
   ],
   "source": [
    "print(cov(M))"
   ]
  }
 ],
 "metadata": {
  "kernelspec": {
   "display_name": "R",
   "language": "R",
   "name": "ir"
  },
  "language_info": {
   "codemirror_mode": "r",
   "file_extension": ".r",
   "mimetype": "text/x-r-source",
   "name": "R",
   "pygments_lexer": "r",
   "version": "3.6.1"
  }
 },
 "nbformat": 4,
 "nbformat_minor": 4
}
